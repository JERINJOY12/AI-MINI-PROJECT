{
 "cells": [
  {
   "cell_type": "code",
   "execution_count": 2,
   "id": "15d4d05e",
   "metadata": {},
   "outputs": [
    {
     "name": "stderr",
     "output_type": "stream",
     "text": [
      "C:\\Users\\aarav\\AppData\\Roaming\\Python\\Python311\\site-packages\\spacy\\util.py:275: UserWarning: [W031] Model 'en_training' (0.0.0) requires spaCy v2.2 and is incompatible with the current spaCy version (2.3.9). This may lead to unexpected results or runtime errors. To resolve this, download a newer compatible model or retrain your custom model with the current spaCy version. For more details and available updates, run: python -m spacy validate\n",
      "  warnings.warn(warn_msg)\n"
     ]
    }
   ],
   "source": [
    "from resume_parser import resumeparse"
   ]
  },
  {
   "cell_type": "code",
   "execution_count": 3,
   "id": "d48d6b19",
   "metadata": {},
   "outputs": [
    {
     "name": "stderr",
     "output_type": "stream",
     "text": [
      "2023-05-08 19:50:26,357 [MainThread  ] [INFO ]  Retrieving http://search.maven.org/remotecontent?filepath=org/apache/tika/tika-server-standard/2.6.0/tika-server-standard-2.6.0.jar to C:\\Users\\aarav\\AppData\\Local\\Temp\\tika-server.jar.\n",
      "2023-05-08 19:50:52,848 [MainThread  ] [INFO ]  Retrieving http://search.maven.org/remotecontent?filepath=org/apache/tika/tika-server-standard/2.6.0/tika-server-standard-2.6.0.jar.md5 to C:\\Users\\aarav\\AppData\\Local\\Temp\\tika-server.jar.md5.\n",
      "2023-05-08 19:50:54,269 [MainThread  ] [ERROR]  Unable to run java; is it installed?\n",
      "2023-05-08 19:50:54,270 [MainThread  ] [ERROR]  Failed to receive startup confirmation from startServer.\n",
      "ERROR:root:Error in tika installation:: Unable to start Tika server.\n",
      "ERROR:root:--------------------------\n",
      "ERROR:root:Install java for better result \n"
     ]
    }
   ],
   "source": [
    "data=resumeparse.read_file('C:/Users/aarav/Downloads/computer-science-resume-example.pdf')"
   ]
  },
  {
   "cell_type": "code",
   "execution_count": 5,
   "id": "bed24ccd",
   "metadata": {},
   "outputs": [
    {
     "data": {
      "text/plain": [
       "{'email': 'bellatrevino@email.com',\n",
       " 'phone': '(123) 456-7890',\n",
       " 'name': '',\n",
       " 'total_exp': 0,\n",
       " 'university': ['university of illinois'],\n",
       " 'designition': ['web developer',\n",
       "  'senior developer',\n",
       "  'co-founder',\n",
       "  'founder',\n",
       "  'student'],\n",
       " 'degree': ['B.S.'],\n",
       " 'skills': ['Social Media Scheduler',\n",
       "  'JavaScript (Angular)',\n",
       "  'Creator',\n",
       "  'HTML/ CSS',\n",
       "  '·',\n",
       "  'Python (Django) Built responsive app using Django and Node that allowed users',\n",
       "  'to schedule social media posts across Instagram and Twitter',\n",
       "  'SQL (PostgreSQL',\n",
       "  ' Oracle)',\n",
       "  'Built features using scikit-learn in Python that learned the time',\n",
       "  'REST APIs',\n",
       "  'of day of maximum engagement with social media posts',\n",
       "  '',\n",
       "  'Git',\n",
       "  'which increased overall engagement rate by 23% for users',\n",
       "  'Released it for free for University of Illinois Chicago students',\n",
       "  'and it quickly grew to over 500 monthly active users',\n",
       "  'Featured across 7 local newspapers',\n",
       "  ' radio stations',\n",
       "  ' and news',\n",
       "  'networks with focus around use of Twitter and Instagram APIs',\n",
       "  'Computer Science Club',\n",
       "  'Co-founder',\n",
       "  'April 2017 - April 2020',\n",
       "  'Presented a need for a computer science club to student',\n",
       "  'government',\n",
       "  ' obtained club approval',\n",
       "  ' and secured club advisor',\n",
       "  'Co-founded the computer science club at the University of',\n",
       "  'Illinois Chicago to encourage exchanges among CS students',\n",
       "  'surrounding new concepts and technical problems',\n",
       "  'Led club members to spend 2 hours a week pair programming',\n",
       "  'with another member to share learnings',\n",
       "  'Partnered with journalism majors to attract 35 active',\n",
       "  'members to the club in first year',\n",
       "  ' using web and tv campaigns'],\n",
       " 'Companies worked at': []}"
      ]
     },
     "execution_count": 5,
     "metadata": {},
     "output_type": "execute_result"
    }
   ],
   "source": [
    "data"
   ]
  },
  {
   "cell_type": "code",
   "execution_count": 7,
   "id": "61f8411a",
   "metadata": {},
   "outputs": [
    {
     "name": "stderr",
     "output_type": "stream",
     "text": [
      "2023-05-08 19:53:53,932 [MainThread  ] [ERROR]  Unable to run java; is it installed?\n",
      "ERROR:tika.tika:Unable to run java; is it installed?\n",
      "2023-05-08 19:53:53,933 [MainThread  ] [ERROR]  Failed to receive startup confirmation from startServer.\n",
      "ERROR:tika.tika:Failed to receive startup confirmation from startServer.\n",
      "ERROR:root:Error in tika installation:: Unable to start Tika server.\n",
      "ERROR:root:--------------------------\n",
      "ERROR:root:Install java for better result \n"
     ]
    }
   ],
   "source": [
    "data1=resumeparse.read_file('C:/Users/aarav/Downloads/computer-scientist-resume-example.pdf')"
   ]
  },
  {
   "cell_type": "code",
   "execution_count": 8,
   "id": "788394e1",
   "metadata": {},
   "outputs": [
    {
     "data": {
      "text/plain": [
       "{'email': 'Ebar@email.com',\n",
       " 'phone': '(123) 456-7890',\n",
       " 'name': 'Collins Aerospace',\n",
       " 'total_exp': 5,\n",
       " 'university': ['bob jones university'],\n",
       " 'designition': ['computer scientist',\n",
       "  'scientist',\n",
       "  'computer support specialist',\n",
       "  'support specialist'],\n",
       " 'degree': [],\n",
       " 'skills': ['Developed and implemented 8 Machine Learning models',\n",
       "  'and techniques to solve 11 business problems',\n",
       "  ' saving',\n",
       "  'Computer System Building',\n",
       "  '$56',\n",
       "  '000+',\n",
       "  'and Repair',\n",
       "  'Evaluated the accuracy and quality of 210+ data sources and',\n",
       "  'Hardware and Software',\n",
       "  'designed models',\n",
       "  'Installation',\n",
       "  'Maintained and improved skill proficiency levels within the',\n",
       "  'Diagnostic Software Utilities',\n",
       "  '',\n",
       "  'modeling',\n",
       "  ' technology',\n",
       "  ' and industry best practices',\n",
       "  'Remote Access',\n",
       "  ' Networking',\n",
       "  'Computer Management',\n",
       "  'Entry-Level Computer Support Specialist',\n",
       "  'CNNs',\n",
       "  'LSTMs Netalytics',\n",
       "  'PyTorch June 2018 - November 2019 Greer',\n",
       "  ' SC',\n",
       "  'Analyzed 410+ computer and network-related problems',\n",
       "  'reported by end-users',\n",
       "  'Identified',\n",
       "  ' troubleshot',\n",
       "  ' and resolved 360+ hardware',\n",
       "  'software',\n",
       "  ' and network-related problems',\n",
       "  'Established a new tracking system to log requests',\n",
       "  ' monitor',\n",
       "  'progress',\n",
       "  ' track problem resolutions',\n",
       "  ' and identify 100% of',\n",
       "  'failure patterns',\n",
       "  'Communicated with 12+ supervisors and managers',\n",
       "  'regarding unresolved issues and inefficient tracking',\n",
       "  'Maintained inventory of deployed',\n",
       "  ' loaned',\n",
       "  ' recycled',\n",
       "  ' and',\n",
       "  'stored IT equipment (over 3',\n",
       "  '000 units)'],\n",
       " 'Companies worked at': []}"
      ]
     },
     "execution_count": 8,
     "metadata": {},
     "output_type": "execute_result"
    }
   ],
   "source": [
    "data1"
   ]
  },
  {
   "cell_type": "code",
   "execution_count": 9,
   "id": "5f047478",
   "metadata": {},
   "outputs": [
    {
     "name": "stderr",
     "output_type": "stream",
     "text": [
      "2023-05-08 20:14:45,513 [MainThread  ] [ERROR]  Unable to run java; is it installed?\n",
      "ERROR:tika.tika:Unable to run java; is it installed?\n",
      "2023-05-08 20:14:45,516 [MainThread  ] [ERROR]  Failed to receive startup confirmation from startServer.\n",
      "ERROR:tika.tika:Failed to receive startup confirmation from startServer.\n",
      "ERROR:root:Error in tika installation:: Unable to start Tika server.\n",
      "ERROR:root:--------------------------\n",
      "ERROR:root:Install java for better result \n"
     ]
    }
   ],
   "source": [
    "\n",
    "data2=resumeparse.read_file('C:/Users/aarav/Downloads/computer-science-internship-resume-example.pdf')"
   ]
  },
  {
   "cell_type": "code",
   "execution_count": 10,
   "id": "3887b036",
   "metadata": {},
   "outputs": [
    {
     "data": {
      "text/plain": [
       "{'email': 'zeke.boliver@email.com',\n",
       " 'phone': '(123) 456-7890',\n",
       " 'name': 'ZEKE BOLIVER',\n",
       " 'total_exp': 3,\n",
       " 'university': ['university of texas'],\n",
       " 'designition': ['software engineer', 'technician', 'research assistant'],\n",
       " 'degree': [],\n",
       " 'skills': ['· Trained 3 freshmen help desk technicians in procedures',\n",
       "  ' work',\n",
       "  'ticketing system',\n",
       "  ' and conflict management',\n",
       "  '· Performed software updates and routine maintenance on JavaScript (Angular)',\n",
       "  'computers',\n",
       "  ' printers',\n",
       "  ' and copy machines HTML/ CSS',\n",
       "  'Python (Django)'],\n",
       " 'Companies worked at': []}"
      ]
     },
     "execution_count": 10,
     "metadata": {},
     "output_type": "execute_result"
    }
   ],
   "source": [
    "data2"
   ]
  },
  {
   "cell_type": "code",
   "execution_count": null,
   "id": "43e0a482",
   "metadata": {},
   "outputs": [],
   "source": []
  }
 ],
 "metadata": {
  "kernelspec": {
   "display_name": "Python 3 (ipykernel)",
   "language": "python",
   "name": "python3"
  },
  "language_info": {
   "codemirror_mode": {
    "name": "ipython",
    "version": 3
   },
   "file_extension": ".py",
   "mimetype": "text/x-python",
   "name": "python",
   "nbconvert_exporter": "python",
   "pygments_lexer": "ipython3",
   "version": "3.11.3"
  }
 },
 "nbformat": 4,
 "nbformat_minor": 5
}
